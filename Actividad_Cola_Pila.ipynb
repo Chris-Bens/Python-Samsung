{
  "nbformat": 4,
  "nbformat_minor": 0,
  "metadata": {
    "colab": {
      "provenance": []
    },
    "kernelspec": {
      "name": "python3",
      "display_name": "Python 3"
    },
    "language_info": {
      "name": "python"
    }
  },
  "cells": [
    {
      "cell_type": "code",
      "execution_count": 3,
      "metadata": {
        "id": "fNpy6mZ0bp3M"
      },
      "outputs": [],
      "source": [
        "#Ejercicio!!!!\n",
        "#Aplicación en la vida real\n",
        "\n",
        "class Deque:\n",
        "    def __init__(self):\n",
        "        self._deque = []\n",
        "\n",
        "    def add_first(self, item):\n",
        "        \"Agregar un elemento a la parte inicial del deque: \"\n",
        "        self._deque.insert(0, item)\n",
        "\n",
        "    def remove_first(self):\n",
        "        \"Remover y retornar un elemento de la parte inicial del deque (cola): \"\n",
        "        if self._deque:\n",
        "            return self._deque.pop(0)\n",
        "        else:\n",
        "            return \"El deque está vacío.\"\n",
        "\n",
        "    def add_last(self, item):\n",
        "        \"Agregar un elemento a la parte final del deque (cola/pila): \"\n",
        "        self._deque.append(item)\n",
        "\n",
        "    def remove_last(self):\n",
        "        \"Remover y retornar un elemento de la parte final del deque (pila): \"\n",
        "        if self._deque:\n",
        "            return self._deque.pop()\n",
        "        else:\n",
        "            return \"El deque está vacío.\"\n",
        "\n",
        "\n",
        "\n"
      ]
    },
    {
      "cell_type": "code",
      "source": [
        "deque = Deque()\n",
        "deque.add_first(\"Banana\")\n",
        "deque.add_first(\"Apple\")\n",
        "deque.add_first(\"Tomato\")\n",
        "deque.remove_first()\n",
        "deque.add_last(\"Strawberry\")\n",
        "deque.add_last(\"Grapes\")\n",
        "deque.remove_last()\n",
        "print(deque._deque)\n"
      ],
      "metadata": {
        "colab": {
          "base_uri": "https://localhost:8080/"
        },
        "id": "bj1z6Z_BeXiJ",
        "outputId": "f30a1b40-039d-4588-8fb5-bc2081ad5314"
      },
      "execution_count": 7,
      "outputs": [
        {
          "output_type": "stream",
          "name": "stdout",
          "text": [
            "['Apple', 'Banana', 'Strawberry']\n"
          ]
        }
      ]
    }
  ]
}